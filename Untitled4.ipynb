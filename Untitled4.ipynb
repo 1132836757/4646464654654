{
  "nbformat": 4,
  "nbformat_minor": 0,
  "metadata": {
    "colab": {
      "name": "Untitled4.ipynb",
      "provenance": [],
      "include_colab_link": true
    },
    "kernelspec": {
      "name": "python3",
      "display_name": "Python 3"
    }
  },
  "cells": [
    {
      "cell_type": "markdown",
      "metadata": {
        "id": "view-in-github",
        "colab_type": "text"
      },
      "source": [
        "<a href=\"https://colab.research.google.com/github/1132836757/python/blob/master/Untitled4.ipynb\" target=\"_parent\"><img src=\"https://colab.research.google.com/assets/colab-badge.svg\" alt=\"Open In Colab\"/></a>"
      ]
    },
    {
      "cell_type": "code",
      "metadata": {
        "id": "LwbvIlfznhnC",
        "colab_type": "code",
        "colab": {
          "base_uri": "https://localhost:8080/",
          "height": 51
        },
        "outputId": "8afc024b-bccd-42bf-e1f2-6ac67a575a13"
      },
      "source": [
        "print(\"xを入力\")\n",
        "x = input()\n",
        "x = int (x)\n",
        "print(x)\n",
        "if x==0:\n",
        "  print(\"xはゼロ\")\n",
        "elif x>0:\n",
        "  print(\"xは正数\")\n",
        "else:\n",
        "  print(\"xは負数\")\n",
        "    "
      ],
      "execution_count": 0,
      "outputs": [
        {
          "output_type": "stream",
          "text": [
            "xを入力\n"
          ],
          "name": "stdout"
        }
      ]
    },
    {
      "cell_type": "code",
      "metadata": {
        "id": "59mxPO90obBp",
        "colab_type": "code",
        "colab": {}
      },
      "source": [
        "print\"消費税 1.japan 2.malaysia 3.UK 4.Europe 5.use\n",
        "1\n",
        "入力してください\n",
        "500\n",
        "550.0"
      ],
      "execution_count": 0,
      "outputs": []
    },
    {
      "cell_type": "code",
      "metadata": {
        "id": "8WxjMQyepDuQ",
        "colab_type": "code",
        "colab": {}
      },
      "source": [
        ""
      ],
      "execution_count": 0,
      "outputs": []
    }
  ]
}